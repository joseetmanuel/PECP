{
  "cells": [
    {
      "cell_type": "markdown",
      "metadata": {},
      "source": [
        "# \ud83d\udc0d M\u00f3dulo 1: Introducci\u00f3n a Python y al examen PCEP\n",
        "\n",
        "Bienvenido al curso de preparaci\u00f3n para la certificaci\u00f3n **PCEP \u2013 Certified Entry-Level Python Programmer**.\n",
        "\n",
        "En este primer m\u00f3dulo aprender\u00e1s:\n",
        "\n",
        "- \u00bfQu\u00e9 es Python?\n",
        "- C\u00f3mo usar `print()` y comentarios\n",
        "- C\u00f3mo identificar el tipo de un dato\n",
        "- C\u00f3mo comenzar tu camino hacia la certificaci\u00f3n\n"
      ]
    },
    {
      "cell_type": "code",
      "execution_count": null,
      "metadata": {},
      "outputs": [],
      "source": [
        "# Este es tu primer programa en Python\n",
        "print(\"\u00a1Hola, mundo!\")"
      ]
    },
    {
      "cell_type": "markdown",
      "metadata": {},
      "source": [
        "## \u270d\ufe0f Ejercicio 1\n",
        "Escribe un programa que imprima tu nombre y edad usando `print()`."
      ]
    },
    {
      "cell_type": "code",
      "execution_count": null,
      "metadata": {},
      "outputs": [],
      "source": [
        "# Escribe tu c\u00f3digo aqu\u00ed\n"
      ]
    },
    {
      "cell_type": "markdown",
      "metadata": {},
      "source": [
        "## \ud83d\udd0d Tipos de datos\n",
        "Puedes usar `type()` para saber qu\u00e9 tipo de dato est\u00e1s usando:"
      ]
    },
    {
      "cell_type": "code",
      "execution_count": null,
      "metadata": {},
      "outputs": [],
      "source": [
        "print(type(\"Hola\"))   # str\n",
        "print(type(42))        # int\n",
        "print(type(3.14))      # float"
      ]
    },
    {
      "cell_type": "markdown",
      "metadata": {},
      "source": [
        "## \u270d\ufe0f Ejercicio 2\n",
        "Crea tres variables: `nombre`, `edad` y `altura`. Luego imprime su tipo usando `type()`."
      ]
    },
    {
      "cell_type": "code",
      "execution_count": null,
      "metadata": {},
      "outputs": [],
      "source": [
        "# Escribe tu c\u00f3digo aqu\u00ed\n"
      ]
    }
  ],
  "metadata": {
    "kernelspec": {
      "display_name": "Python 3",
      "language": "python",
      "name": "python3"
    },
    "language_info": {
      "name": "python",
      "version": "3.x"
    }
  },
  "nbformat": 4,
  "nbformat_minor": 5
}