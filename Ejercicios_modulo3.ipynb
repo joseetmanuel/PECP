{
 "cells": [
  {
   "cell_type": "markdown",
   "id": "c3bede71",
   "metadata": {},
   "source": [
    "# 🧪 Módulo 3: Colección y Procesamiento de Datos"
   ]
  },
  {
   "cell_type": "markdown",
   "id": "4733ddc8",
   "metadata": {},
   "source": [
    "## 1. Listas"
   ]
  },
  {
   "cell_type": "code",
   "execution_count": null,
   "id": "e1a56cac",
   "metadata": {},
   "outputs": [],
   "source": [
    "# Crea una lista con tres tipos de datos diferentes\n",
    "mi_lista = [42, \"Python\", True]\n",
    "print(mi_lista)\n",
    "\n",
    "# Modifica el segundo elemento\n",
    "mi_lista[1] = \"PCEP\"\n",
    "print(mi_lista)\n",
    "\n",
    "# Agrega un nuevo elemento al final\n",
    "mi_lista.append(3.14)\n",
    "print(mi_lista)\n",
    "\n",
    "# Elimina el primer elemento\n",
    "del mi_lista[0]\n",
    "print(mi_lista)\n"
   ]
  },
  {
   "cell_type": "markdown",
   "id": "86ad9b93",
   "metadata": {},
   "source": [
    "### Slicing y longitud de listas"
   ]
  },
  {
   "cell_type": "code",
   "execution_count": null,
   "id": "f007e513",
   "metadata": {},
   "outputs": [],
   "source": [
    "numeros = [0, 1, 2, 3, 4, 5, 6, 7]\n",
    "print(numeros[2:5])\n",
    "print(numeros[-3:])\n",
    "print(len(numeros))\n"
   ]
  },
  {
   "cell_type": "markdown",
   "id": "3bd6960b",
   "metadata": {},
   "source": [
    "### List Comprehension"
   ]
  },
  {
   "cell_type": "code",
   "execution_count": null,
   "id": "6ad24043",
   "metadata": {},
   "outputs": [],
   "source": [
    "# Crea una lista con los cuadrados del 1 al 5\n",
    "cuadrados = [x**2 for x in range(1, 6)]\n",
    "print(cuadrados)\n"
   ]
  },
  {
   "cell_type": "markdown",
   "id": "3fc055f5",
   "metadata": {},
   "source": [
    "## 2. Tuplas"
   ]
  },
  {
   "cell_type": "code",
   "execution_count": null,
   "id": "d63dc62a",
   "metadata": {},
   "outputs": [],
   "source": [
    "# Crea una tupla con diferentes tipos de datos\n",
    "mi_tupla = (10, \"hola\", False)\n",
    "print(mi_tupla)\n",
    "\n",
    "# Accede al segundo elemento\n",
    "print(mi_tupla[1])\n",
    "\n",
    "# Intenta modificar un valor (esto genera error)\n",
    "# mi_tupla[0] = 100\n"
   ]
  },
  {
   "cell_type": "markdown",
   "id": "c37f65d0",
   "metadata": {},
   "source": [
    "## 3. Diccionarios"
   ]
  },
  {
   "cell_type": "code",
   "execution_count": null,
   "id": "f172a94c",
   "metadata": {},
   "outputs": [],
   "source": [
    "# Crea un diccionario con al menos tres pares clave-valor\n",
    "mi_diccionario = {\"nombre\": \"Etma\", \"edad\": 38, \"activo\": True}\n",
    "print(mi_diccionario)\n",
    "\n",
    "# Accede al valor de una clave\n",
    "print(mi_diccionario[\"nombre\"])\n",
    "\n",
    "# Añade una nueva clave\n",
    "mi_diccionario[\"rol\"] = \"Instructor\"\n",
    "print(mi_diccionario)\n",
    "\n",
    "# Elimina una clave\n",
    "del mi_diccionario[\"edad\"]\n",
    "print(mi_diccionario)\n"
   ]
  },
  {
   "cell_type": "markdown",
   "id": "ba7099dc",
   "metadata": {},
   "source": [
    "### Iteración sobre diccionarios"
   ]
  },
  {
   "cell_type": "code",
   "execution_count": null,
   "id": "ec0cdbb5",
   "metadata": {},
   "outputs": [],
   "source": [
    "for clave in mi_diccionario:\n",
    "    print(f\"Clave: {clave}, Valor: {mi_diccionario[clave]}\")\n",
    "\n",
    "# Usando .items()\n",
    "for clave, valor in mi_diccionario.items():\n",
    "    print(f\"{clave} => {valor}\")\n"
   ]
  }
 ],
 "metadata": {},
 "nbformat": 4,
 "nbformat_minor": 5
}
