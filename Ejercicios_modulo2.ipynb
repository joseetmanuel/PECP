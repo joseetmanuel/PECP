{
  "cells": [
    {
      "cell_type": "markdown",
      "metadata": {},
      "source": [
        "# \ud83e\uddea M\u00f3dulo 2 \u2013 Condicionales y Bucles\n",
        "Ejercicios pr\u00e1cticos para dominar el control de flujo en Python.\n",
        "\n",
        "### \ud83d\udc68\u200d\ud83c\udfeb Instrucciones:\n",
        "- Lee cada consigna con atenci\u00f3n.\n",
        "- Escribe tu c\u00f3digo debajo de cada enunciado.\n",
        "- Ejecuta para ver si el resultado es el esperado."
      ]
    },
    {
      "cell_type": "markdown",
      "metadata": {},
      "source": [
        "## 1. Condicional simple\n",
        "Pide al usuario una edad e imprime \"Mayor de edad\" si tiene 18 o m\u00e1s a\u00f1os."
      ]
    },
    {
      "cell_type": "code",
      "execution_count": null,
      "metadata": {},
      "outputs": [],
      "source": [
        "# Tu c\u00f3digo aqu\u00ed\n"
      ]
    },
    {
      "cell_type": "markdown",
      "metadata": {},
      "source": [
        "## 2. if-else\n",
        "Pide una calificaci\u00f3n (float) y muestra \"Aprobado\" si es 6 o m\u00e1s, de lo contrario muestra \"Reprobado\"."
      ]
    },
    {
      "cell_type": "code",
      "execution_count": null,
      "metadata": {},
      "outputs": [],
      "source": [
        "# Tu c\u00f3digo aqu\u00ed\n"
      ]
    },
    {
      "cell_type": "markdown",
      "metadata": {},
      "source": [
        "## 3. if-elif-else\n",
        "Pide un n\u00famero entero. Muestra si es positivo, negativo o cero."
      ]
    },
    {
      "cell_type": "code",
      "execution_count": null,
      "metadata": {},
      "outputs": [],
      "source": [
        "# Tu c\u00f3digo aqu\u00ed\n"
      ]
    },
    {
      "cell_type": "markdown",
      "metadata": {},
      "source": [
        "## 4. while con contador\n",
        "Imprime los n\u00fameros del 5 al 1 usando un bucle `while`."
      ]
    },
    {
      "cell_type": "code",
      "execution_count": null,
      "metadata": {},
      "outputs": [],
      "source": [
        "# Tu c\u00f3digo aqu\u00ed\n"
      ]
    },
    {
      "cell_type": "markdown",
      "metadata": {},
      "source": [
        "## 5. for con range()\n",
        "Imprime los m\u00faltiplos de 3 entre 1 y 10 usando un bucle `for` y `range()`."
      ]
    },
    {
      "cell_type": "code",
      "execution_count": null,
      "metadata": {},
      "outputs": [],
      "source": [
        "# Tu c\u00f3digo aqu\u00ed\n"
      ]
    },
    {
      "cell_type": "markdown",
      "metadata": {},
      "source": [
        "## 6. break en un bucle\n",
        "Imprime los n\u00fameros del 0 al 10, pero detente cuando encuentres un n\u00famero mayor a 5 (usa `break`)."
      ]
    },
    {
      "cell_type": "code",
      "execution_count": null,
      "metadata": {},
      "outputs": [],
      "source": [
        "# Tu c\u00f3digo aqu\u00ed\n"
      ]
    },
    {
      "cell_type": "markdown",
      "metadata": {},
      "source": [
        "## 7. continue en un bucle\n",
        "Imprime los n\u00fameros del 1 al 10, excepto los m\u00faltiplos de 4 (usa `continue`)."
      ]
    },
    {
      "cell_type": "code",
      "execution_count": null,
      "metadata": {},
      "outputs": [],
      "source": [
        "# Tu c\u00f3digo aqu\u00ed\n"
      ]
    },
    {
      "cell_type": "markdown",
      "metadata": {},
      "source": [
        "## 8. Bucle con else\n",
        "Usa un bucle `for` para imprimir n\u00fameros del 0 al 3. Al terminar, imprime \"Finalizado\" usando `else`."
      ]
    },
    {
      "cell_type": "code",
      "execution_count": null,
      "metadata": {},
      "outputs": [],
      "source": [
        "# Tu c\u00f3digo aqu\u00ed\n"
      ]
    }
  ],
  "metadata": {
    "kernelspec": {
      "display_name": "Python 3",
      "language": "python",
      "name": "python3"
    },
    "language_info": {
      "name": "python",
      "version": "3.x"
    }
  },
  "nbformat": 4,
  "nbformat_minor": 5
}