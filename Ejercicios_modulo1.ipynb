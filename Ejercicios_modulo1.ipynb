{
  "cells": [
    {
      "cell_type": "markdown",
      "metadata": {},
      "source": [
        "# \ud83e\uddea M\u00f3dulo 1 \u2013 Ejercicios de Repaso\n",
        "Ejercicios pr\u00e1cticos para preparar el examen PCEP \u2013 Fundamentos de programaci\u00f3n y Python.\n",
        "\n",
        "### \ud83d\udc68\u200d\ud83c\udfeb Instrucciones:\n",
        "- Lee cuidadosamente cada ejercicio.\n",
        "- Escribe tu c\u00f3digo en las celdas de abajo.\n",
        "- Ejecuta para verificar resultados.\n",
        "- Si\u00e9ntete libre de experimentar."
      ]
    },
    {
      "cell_type": "markdown",
      "metadata": {},
      "source": [
        "## 1. Tu primer programa\n",
        "Escribe un programa que imprima tu nombre completo y tu edad en l\u00edneas separadas."
      ]
    },
    {
      "cell_type": "code",
      "execution_count": null,
      "metadata": {},
      "outputs": [],
      "source": [
        "# Escribe tu c\u00f3digo aqu\u00ed\n"
      ]
    },
    {
      "cell_type": "markdown",
      "metadata": {},
      "source": [
        "## 2. Tipos de datos\n",
        "Declara una variable de cada tipo: `int`, `float`, `str`, `bool`, y usa `type()` para mostrar su tipo."
      ]
    },
    {
      "cell_type": "code",
      "execution_count": null,
      "metadata": {},
      "outputs": [],
      "source": [
        "# Escribe tu c\u00f3digo aqu\u00ed\n"
      ]
    },
    {
      "cell_type": "markdown",
      "metadata": {},
      "source": [
        "## 3. Operaciones y precedencia\n",
        "Calcula el resultado de esta expresi\u00f3n y explica por qu\u00e9 da ese valor:\n",
        "`2 + 3 * 4 ** 2`"
      ]
    },
    {
      "cell_type": "code",
      "execution_count": null,
      "metadata": {},
      "outputs": [],
      "source": [
        "# Resultado de la expresi\u00f3n:\n"
      ]
    },
    {
      "cell_type": "markdown",
      "metadata": {},
      "source": [
        "## 4. Entrada de usuario\n",
        "Pide al usuario que escriba su nombre y su a\u00f1o de nacimiento, y muestra un mensaje con su edad actual."
      ]
    },
    {
      "cell_type": "code",
      "execution_count": null,
      "metadata": {},
      "outputs": [],
      "source": [
        "# Sugerencia: puedes usar la funci\u00f3n input() y la funci\u00f3n int()\n"
      ]
    },
    {
      "cell_type": "markdown",
      "metadata": {},
      "source": [
        "## 5. Cadenas y caracteres especiales\n",
        "Imprime el siguiente mensaje exacto usando solo una l\u00ednea de c\u00f3digo:\n",
        "`\u00a1Hola! L\u00ednea 1\\n\\tL\u00ednea 2 con tabulaci\u00f3n`"
      ]
    },
    {
      "cell_type": "code",
      "execution_count": null,
      "metadata": {},
      "outputs": [],
      "source": [
        "# Usa caracteres de escape como \\n y \\t\n"
      ]
    },
    {
      "cell_type": "markdown",
      "metadata": {},
      "source": [
        "## 6. Operadores compuestos\n",
        "Declara una variable `total = 100`. Luego r\u00e9stale 25 usando un operador compuesto y muestra el resultado final."
      ]
    },
    {
      "cell_type": "code",
      "execution_count": null,
      "metadata": {},
      "outputs": [],
      "source": [
        "# Usa -= aqu\u00ed\n"
      ]
    },
    {
      "cell_type": "markdown",
      "metadata": {},
      "source": [
        "## 7. Desaf\u00edo final\n",
        "Haz un programa que reciba el nombre de un alumno, su calificaci\u00f3n como n\u00famero decimal, y muestre:\n",
        "`Juan obtuvo 9.5 de calificaci\u00f3n` (usa sep y end para personalizar la salida)."
      ]
    },
    {
      "cell_type": "code",
      "execution_count": null,
      "metadata": {},
      "outputs": [],
      "source": [
        "# Usa input() y print() con sep= y end=\n"
      ]
    }
  ],
  "metadata": {
    "kernelspec": {
      "display_name": "Python 3",
      "language": "python",
      "name": "python3"
    },
    "language_info": {
      "name": "python",
      "version": "3.x"
    }
  },
  "nbformat": 4,
  "nbformat_minor": 5
}