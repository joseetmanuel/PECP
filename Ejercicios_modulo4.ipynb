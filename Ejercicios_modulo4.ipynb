{
 "cells": [
  {
   "cell_type": "markdown",
   "id": "62274a95",
   "metadata": {},
   "source": [
    "# 🧩 Módulo 4: Funciones y Excepciones (PCEP)"
   ]
  },
  {
   "cell_type": "markdown",
   "id": "5ec94f6c",
   "metadata": {},
   "source": [
    "## 📌 Funciones básicas"
   ]
  },
  {
   "cell_type": "code",
   "execution_count": null,
   "id": "e7419685",
   "metadata": {},
   "outputs": [],
   "source": [
    "def saludo():\n",
    "    return \"Hola\"\n",
    "\n",
    "print(saludo())"
   ]
  },
  {
   "cell_type": "code",
   "execution_count": null,
   "id": "fa179a2e",
   "metadata": {},
   "outputs": [],
   "source": [
    "def devuelve_valor(valor):\n",
    "    if valor:\n",
    "        return True\n",
    "\n",
    "print(devuelve_valor(True))   # → True\n",
    "print(devuelve_valor(False))  # → None"
   ]
  },
  {
   "cell_type": "code",
   "execution_count": null,
   "id": "4b789dfe",
   "metadata": {},
   "outputs": [],
   "source": [
    "def suma(a, b=0):\n",
    "    return a + b\n",
    "\n",
    "print(suma(5))       # → 5\n",
    "print(suma(5, 3))    # → 8"
   ]
  },
  {
   "cell_type": "code",
   "execution_count": null,
   "id": "290de374",
   "metadata": {},
   "outputs": [],
   "source": [
    "def mostrar(a, b, c):\n",
    "    print(a, b, c)\n",
    "\n",
    "mostrar(1, 2, 3)             # Posicional\n",
    "mostrar(c=3, a=1, b=2)       # Keyword\n",
    "mostrar(1, b=2, c=3)         # Mixto"
   ]
  },
  {
   "cell_type": "code",
   "execution_count": null,
   "id": "c4ac05f8",
   "metadata": {},
   "outputs": [],
   "source": [
    "def incrementar():\n",
    "    global contador\n",
    "    contador += 1\n",
    "\n",
    "contador = 0\n",
    "incrementar()\n",
    "print(contador)  # → 1"
   ]
  },
  {
   "cell_type": "code",
   "execution_count": null,
   "id": "67bdc955",
   "metadata": {},
   "outputs": [],
   "source": [
    "def cambia_lista(lst):\n",
    "    lst[0] = 'modificado'\n",
    "\n",
    "mi_lista = ['original']\n",
    "cambia_lista(mi_lista)\n",
    "print(mi_lista)  # → ['modificado']"
   ]
  },
  {
   "cell_type": "code",
   "execution_count": null,
   "id": "2beb4cf6",
   "metadata": {},
   "outputs": [],
   "source": [
    "def factorial(n):\n",
    "    if n < 2:\n",
    "        return 1\n",
    "    return n * factorial(n - 1)\n",
    "\n",
    "print(factorial(5))  # → 120"
   ]
  },
  {
   "cell_type": "markdown",
   "id": "9b62f443",
   "metadata": {},
   "source": [
    "## 🚨 Manejo de excepciones"
   ]
  },
  {
   "cell_type": "code",
   "execution_count": null,
   "id": "c8528682",
   "metadata": {},
   "outputs": [],
   "source": [
    "try:\n",
    "    x = 1 / 0\n",
    "except ZeroDivisionError:\n",
    "    print(\"¡No se puede dividir entre cero!\")"
   ]
  },
  {
   "cell_type": "code",
   "execution_count": null,
   "id": "ef4663bf",
   "metadata": {},
   "outputs": [],
   "source": [
    "try:\n",
    "    x = int(input(\"Ingresa un número: \"))\n",
    "    y = 10 / x\n",
    "except ValueError:\n",
    "    print(\"NAN\")\n",
    "except ZeroDivisionError:\n",
    "    print(\"ZERO\")\n",
    "except:\n",
    "    print(\"ERR\")"
   ]
  },
  {
   "cell_type": "code",
   "execution_count": null,
   "id": "e61eba21",
   "metadata": {},
   "outputs": [],
   "source": [
    "def suma_debug(a, b):\n",
    "    print(f\"Sumando {a} + {b}\")\n",
    "    return a + b\n",
    "\n",
    "print(suma_debug(3, 4))"
   ]
  },
  {
   "cell_type": "code",
   "execution_count": null,
   "id": "3dd631fd",
   "metadata": {},
   "outputs": [],
   "source": [
    "def suma(a, b):\n",
    "    return a + b\n",
    "\n",
    "assert suma(2, 3) == 5\n",
    "assert suma(0, 0) == 0\n",
    "print(\"Todas las pruebas pasaron.\")"
   ]
  }
 ],
 "metadata": {},
 "nbformat": 4,
 "nbformat_minor": 5
}
